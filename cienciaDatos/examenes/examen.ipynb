{
 "cells": [
  {
   "cell_type": "code",
   "execution_count": 28,
   "metadata": {},
   "outputs": [
    {
     "name": "stdout",
     "output_type": "stream",
     "text": [
      "14\n"
     ]
    }
   ],
   "source": [
    "numeros = [-10,5,-3,7,2,-1]\n",
    "suma_positivos = 0\n",
    "\n",
    "for num in numeros:\n",
    "    if num > 0:\n",
    "        suma_positivos += num\n",
    "\n",
    "print(suma_positivos)"
   ]
  },
  {
   "cell_type": "code",
   "execution_count": 7,
   "metadata": {},
   "outputs": [
    {
     "name": "stdout",
     "output_type": "stream",
     "text": [
      "5\n",
      "4\n",
      "3\n",
      "2\n",
      "1\n"
     ]
    }
   ],
   "source": [
    "tupla = (1, 2, 3, 4, 5)\n",
    "\n",
    "for elemento in reversed(tupla):\n",
    "    print(elemento)"
   ]
  },
  {
   "cell_type": "code",
   "execution_count": 4,
   "metadata": {},
   "outputs": [
    {
     "name": "stdout",
     "output_type": "stream",
     "text": [
      "computadora\n",
      "estrellas\n",
      "teclado\n"
     ]
    }
   ],
   "source": [
    "palabras = [\"sol\", \"computadora\",\"luna\",\"estrellas\",\"teclado\"]\n",
    "for nombre in palabras:\n",
    "    if len(nombre) > 5 :\n",
    "        print(nombre)\n"
   ]
  },
  {
   "cell_type": "code",
   "execution_count": 9,
   "metadata": {},
   "outputs": [
    {
     "name": "stdout",
     "output_type": "stream",
     "text": [
      "[2, 4, 6, 8, 10]\n"
     ]
    }
   ],
   "source": [
    "lista = [1,2,3,4,5]\n",
    "lista_nueva = []\n",
    "for elemento in lista:\n",
    "    lista_nueva.append(elemento * 2)\n",
    "\n",
    "print(lista_nueva)"
   ]
  },
  {
   "cell_type": "code",
   "execution_count": 11,
   "metadata": {},
   "outputs": [
    {
     "name": "stdout",
     "output_type": "stream",
     "text": [
      "78\n"
     ]
    }
   ],
   "source": [
    "numeros = [10,23,56,78,12]\n",
    "mayor = 0\n",
    "for elemento in  numeros:\n",
    "    if elemento > mayor:\n",
    "        mayor = elemento\n",
    "\n",
    "print(mayor)   "
   ]
  },
  {
   "cell_type": "code",
   "execution_count": 12,
   "metadata": {},
   "outputs": [
    {
     "name": "stdout",
     "output_type": "stream",
     "text": [
      "1\n",
      "3\n",
      "5\n",
      "7\n",
      "9\n"
     ]
    }
   ],
   "source": [
    "numeros = [1,2,3,4,5,6,7,8,9]\n",
    "\n",
    "\n",
    "for numero in numeros:\n",
    "    if(numero % 2 == 1):\n",
    "        print(numero)\n",
    "    \n"
   ]
  },
  {
   "cell_type": "code",
   "execution_count": 13,
   "metadata": {},
   "outputs": [
    {
     "name": "stdout",
     "output_type": "stream",
     "text": [
      "1\n",
      "2\n",
      "3\n",
      "4\n"
     ]
    }
   ],
   "source": [
    "numero = 1\n",
    "for numero in range(1, 11):\n",
    "    if numero == 5:\n",
    "        break\n",
    "    print(numero)\n"
   ]
  },
  {
   "cell_type": "code",
   "execution_count": 14,
   "metadata": {},
   "outputs": [
    {
     "name": "stdout",
     "output_type": "stream",
     "text": [
      "15\n",
      "{'manzana': 15, 'Pera': 20, 'jicama': 20, 'naranja': 1.8}\n",
      "{'manzana': 15, 'jicama': 20, 'naranja': 1.8}\n"
     ]
    }
   ],
   "source": [
    "diccionario = {\"manzana\":15,\"Pera\":20,\"jicama\":20}\n",
    "\n",
    "\n",
    "print(diccionario[\"manzana\"])\n",
    "\n",
    "naranja = {\"naranja\":1.8}\n",
    "\n",
    "diccionario.update(naranja)\n",
    "\n",
    "print(diccionario)\n",
    "\n",
    "diccionario.pop(\"Pera\")\n",
    "\n",
    "print(diccionario)"
   ]
  },
  {
   "cell_type": "code",
   "execution_count": 17,
   "metadata": {},
   "outputs": [
    {
     "name": "stdout",
     "output_type": "stream",
     "text": [
      " 1  2  3  4  5 \n",
      " 2  4  6  8 10 \n",
      " 3  6  9 12 15 \n",
      " 4  8 12 16 20 \n",
      " 5 10 15 20 25 \n"
     ]
    }
   ],
   "source": [
    "for i in range(1, 6):\n",
    "    for j in range(1, 6):\n",
    "        print(f\"{i * j:2}\", end=\" \")\n",
    "    print()  # Salto de línea después de cada fila"
   ]
  },
  {
   "cell_type": "code",
   "execution_count": 16,
   "metadata": {},
   "outputs": [
    {
     "name": "stdout",
     "output_type": "stream",
     "text": [
      "[1, 2, 3, 4, 5, 6, 7, 8, 9, 10]\n",
      "[1, 2, 33, 4, 5, 6, 7, 8, 9, 10]\n",
      "[1, 2, 33, 4, 5, 6, 7, 8, 12, 9, 10]\n",
      "[33, 4, 5, 6, 7]\n",
      "[1, 2, 4, 5, 6, 7, 8, 12, 9, 10]\n",
      "[1, 2, 4, 5, 6, 7, 8, 9, 10]\n",
      "[1, 2, 5, 6, 7, 8, 9, 10]\n",
      "4\n",
      "(1, 2, 3, 4, 5)\n"
     ]
    }
   ],
   "source": [
    "lista = [1,2,3,4,5,6,7,8,9]\n",
    "\n",
    "lista.append(10)\n",
    "\n",
    "print(lista)\n",
    "\n",
    "lista[2] = 33\n",
    "print(lista)\n",
    "\n",
    "lista.insert(8,12)\n",
    "print(lista)\n",
    "\n",
    "lista_nueva = lista[2:7]\n",
    "print(lista_nueva)\n",
    "\n",
    "del lista[2]\n",
    "print(lista)\n",
    "\n",
    "lista.remove(12)\n",
    "print(lista)\n",
    "\n",
    "elemento = lista.pop(2)\n",
    "print(lista)\n",
    "print(elemento)\n",
    "\n",
    "tupla = (1,2,3,4,5)\n",
    "print(tupla)"
   ]
  },
  {
   "cell_type": "code",
   "execution_count": 25,
   "metadata": {},
   "outputs": [
    {
     "name": "stdout",
     "output_type": "stream",
     "text": [
      "Ciudad de Mexico\n",
      "{'Mexico': 'Ciudad de Mexico', 'Francia': 'Paris', 'Japon': 'Tokio', 'Alemania': 'Berlin', 'Italia': 'Roma'}\n",
      "{'Mexico': 'Ciudad de Mexico', 'Alemania': 'Berlin', 'Italia': 'Roma'}\n",
      "{'Mexico': 'Guadalajara', 'Alemania': 'Berlin', 'Italia': 'Roma'}\n"
     ]
    }
   ],
   "source": [
    "capitales_paises = {\n",
    "    \"Mexico\": \"Ciudad de Mexico\",\n",
    "    \"Francia\": \"Paris\",\n",
    "    \"Japon\": \"Tokio\"\n",
    "}\n",
    "capital_mexico = capitales_paises[\"Mexico\"]\n",
    "print(capital_mexico)\n",
    "capitales_paises[\"Alemania\"] = \"Berlin\"\n",
    "capitales_paises[\"Italia\"] = \"Roma\"\n",
    "print(capitales_paises)\n",
    "\n",
    "del capitales_paises[\"Francia\"]\n",
    "del capitales_paises[\"Japon\"]\n",
    "print(capitales_paises)\n",
    "\n",
    "capitales_paises[\"Mexico\"] = \"Guadalajara\"\n",
    "print(capitales_paises)"
   ]
  }
 ],
 "metadata": {
  "kernelspec": {
   "display_name": ".venv",
   "language": "python",
   "name": "python3"
  },
  "language_info": {
   "codemirror_mode": {
    "name": "ipython",
    "version": 3
   },
   "file_extension": ".py",
   "mimetype": "text/x-python",
   "name": "python",
   "nbconvert_exporter": "python",
   "pygments_lexer": "ipython3",
   "version": "3.11.4"
  }
 },
 "nbformat": 4,
 "nbformat_minor": 2
}
