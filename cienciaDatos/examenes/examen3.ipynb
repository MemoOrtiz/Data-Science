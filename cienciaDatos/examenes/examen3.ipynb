{
 "cells": [
  {
   "cell_type": "code",
   "execution_count": 2,
   "metadata": {},
   "outputs": [
    {
     "name": "stdout",
     "output_type": "stream",
     "text": [
      "24\n"
     ]
    }
   ],
   "source": [
    "lista1 = [1,2,3,4,5,6,12]\n",
    "suma1 = 0\n",
    "def suma_pares(lista, suma):\n",
    "    for elemento in lista:\n",
    "        if elemento % 2 == 0:\n",
    "            suma += elemento\n",
    "    return suma\n",
    "\n",
    "print(suma_pares(lista1,suma1))\n",
    "\n",
    "\n"
   ]
  },
  {
   "cell_type": "code",
   "execution_count": 3,
   "metadata": {},
   "outputs": [
    {
     "name": "stdout",
     "output_type": "stream",
     "text": [
      "99\n"
     ]
    }
   ],
   "source": [
    "def encontrar_maximo(lista,maximo):\n",
    "    for elemento in lista:\n",
    "        if elemento > maximo:\n",
    "            maximo = elemento\n",
    "    print(maximo)\n",
    "    \n",
    "encontrar_maximo([1,2,3,4,5,66,7,99], 0)"
   ]
  },
  {
   "cell_type": "code",
   "execution_count": null,
   "metadata": {},
   "outputs": [
    {
     "name": "stdout",
     "output_type": "stream",
     "text": [
      " \n",
      "    1. Celsius a Fahrenheit\n",
      "    2. Fahrenheit a Celsius\n",
      "    3. Salir\n",
      "    \n"
     ]
    }
   ],
   "source": [
    "condicion = 0\n",
    "\n",
    "while condicion != 3:\n",
    "    print(\"\"\" \n",
    "    1. Celsius a Fahrenheit\n",
    "    2. Fahrenheit a Celsius\n",
    "    3. Salir\n",
    "    \"\"\")\n",
    "    condicion = input(\"Seleccione una opcion: \")\n",
    "    \n",
    "\n"
   ]
  }
 ],
 "metadata": {
  "kernelspec": {
   "display_name": ".venv",
   "language": "python",
   "name": "python3"
  },
  "language_info": {
   "codemirror_mode": {
    "name": "ipython",
    "version": 3
   },
   "file_extension": ".py",
   "mimetype": "text/x-python",
   "name": "python",
   "nbconvert_exporter": "python",
   "pygments_lexer": "ipython3",
   "version": "3.11.4"
  }
 },
 "nbformat": 4,
 "nbformat_minor": 2
}
