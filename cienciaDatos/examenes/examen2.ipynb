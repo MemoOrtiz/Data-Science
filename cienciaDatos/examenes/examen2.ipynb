{
 "cells": [
  {
   "cell_type": "code",
   "execution_count": 29,
   "metadata": {},
   "outputs": [
    {
     "name": "stdout",
     "output_type": "stream",
     "text": [
      "40\n"
     ]
    }
   ],
   "source": [
    "inventario = {\n",
    "    'camisas': 15,\n",
    "    'pantalones': 8,\n",
    "    'chaquetas': 5,\n",
    "    'sombreros': 12\n",
    "}\n",
    "\n",
    "total_articulos = sum(inventario.values())\n",
    "\n",
    "print(total_articulos)\n"
   ]
  },
  {
   "cell_type": "code",
   "execution_count": 28,
   "metadata": {},
   "outputs": [
    {
     "name": "stdout",
     "output_type": "stream",
     "text": [
      "Ana 25.0\n",
      "Juan 20.0\n",
      "Luis 15.0\n"
     ]
    }
   ],
   "source": [
    "jugadores = {\n",
    "    'Ana' : [25,20,30],\n",
    "    'Juan' : [15,20,25],\n",
    "    'Luis' : [10,15,20]\n",
    "}\n",
    "\n",
    "for jugador, ganancias in jugadores.items():\n",
    "    promedio = sum(ganancias) / len(ganancias)\n",
    "    print(f'{jugador} {promedio}')\n"
   ]
  },
  {
   "cell_type": "code",
   "execution_count": 1,
   "metadata": {},
   "outputs": [
    {
     "name": "stdout",
     "output_type": "stream",
     "text": [
      "Carlos 85\n",
      "Marta 78\n",
      "Luis 92\n"
     ]
    }
   ],
   "source": [
    "estudiantes = {\n",
    "    'Carlos': {'matematicas': 85, 'ciencia': 92},\n",
    "    'Marta': {'matematicas': 78, 'ciencia': 88},\n",
    "    'Luis': {'matematicas': 92, 'ciencia': 95}\n",
    "}\n",
    "\n",
    "for nombre, calificaciones in estudiantes.items():\n",
    "    print(f\"{nombre} {calificaciones['matematicas']}\")"
   ]
  },
  {
   "cell_type": "code",
   "execution_count": 39,
   "metadata": {},
   "outputs": [
    {
     "name": "stdout",
     "output_type": "stream",
     "text": [
      "Pedro 7\n",
      "Maria 4\n",
      "Juan 5\n"
     ]
    }
   ],
   "source": [
    "mascotas = {\n",
    "    'Pedro': {'perro': 5, 'gato': 2},\n",
    "    'Maria': {'loro': 3, 'hamster': 1},\n",
    "    'Juan': {'pez': 1, 'serpiente': 4}\n",
    "}\n",
    "\n",
    "for persona, animales in mascotas.items():\n",
    "    suma_edades = sum(animales.values())\n",
    "    print(f\"{persona} {suma_edades}\")"
   ]
  },
  {
   "cell_type": "code",
   "execution_count": 12,
   "metadata": {},
   "outputs": [
    {
     "name": "stdout",
     "output_type": "stream",
     "text": [
      "Código Da Vinci\n",
      "Extraños\n",
      "1920\n",
      "Revolución\n",
      "vida\n",
      "paz y alegría\n"
     ]
    }
   ],
   "source": [
    "librería = {\n",
    "    \"ficción\": [\"Código Da Vinci\", \"Extraños\"],\n",
    "    \"historia\": [\"1920\", \"Revolucion\"],\n",
    "    \"documentales\": [\"vida\", \"paz y alegria\"]\n",
    "}\n",
    "\n",
    "for libros in librería.values():\n",
    "    for libro in libros:\n",
    "        print(libro)"
   ]
  },
  {
   "cell_type": "code",
   "execution_count": 19,
   "metadata": {},
   "outputs": [
    {
     "name": "stdout",
     "output_type": "stream",
     "text": [
      "Luis Doctor\n",
      "Carla Arquitecta\n"
     ]
    }
   ],
   "source": [
    "personas = {\n",
    "    'nombres': ['Ana', 'Luis', 'Carla'],\n",
    "    'edades': [28, 35, 32],\n",
    "    'profesiones': ['Ingeniera', 'Doctor', 'Arquitecta']\n",
    "}\n",
    "\n",
    "for i in range(len(personas['edades'])):\n",
    "    if personas['edades'][i] > 30:\n",
    "        nombre = personas['nombres'][i]\n",
    "        profesion = personas['profesiones'][i]\n",
    "        print(f\"{nombre} {profesion}\")"
   ]
  },
  {
   "cell_type": "code",
   "execution_count": 2,
   "metadata": {},
   "outputs": [
    {
     "name": "stdout",
     "output_type": "stream",
     "text": [
      "Mateo 90.67\n"
     ]
    }
   ],
   "source": [
    "pruebas = {\n",
    "    'Sofia': [85, 90, 88],\n",
    "    'Daniel': [78, 85, 82],\n",
    "    'Mateo': [92, 89, 91]\n",
    "}\n",
    "\n",
    "mejor_estudiante = \"\"\n",
    "mejor_promedio = 0\n",
    "\n",
    "for estudiante, puntuaciones in pruebas.items():\n",
    "    promedio = sum(puntuaciones) / len(puntuaciones)\n",
    "    if promedio > mejor_promedio:\n",
    "        mejor_promedio = promedio\n",
    "        mejor_estudiante = estudiante\n",
    "\n",
    "print(f\"{mejor_estudiante} {mejor_promedio:.2f}\")"
   ]
  },
  {
   "cell_type": "code",
   "execution_count": 36,
   "metadata": {},
   "outputs": [
    {
     "name": "stdout",
     "output_type": "stream",
     "text": [
      "[{'nombre': 'Ana', 'edad': 25}, {'nombre': 'Luis', 'edad': 30}, {'nombre': 'Carla', 'edad': 28}] \n",
      "\n",
      "[{'nombre': 'Ana', 'edad': 25}, {'nombre': 'Luis', 'edad': 30}, {'nombre': 'Carla', 'edad': 28}, {'nombre': 'Pedro', 'edad': 35}] \n",
      "\n",
      "Luis\n",
      "[{'nombre': 'Ana', 'edad': 25}, {'nombre': 'Sofia', 'edad': 22}, {'nombre': 'Luis', 'edad': 30}, {'nombre': 'Carla', 'edad': 28}, {'nombre': 'Pedro', 'edad': 35}] \n",
      "\n",
      "{'nombre': 'Pedro', 'edad': 35} \n",
      "\n",
      "[{'nombre': 'Sofia', 'edad': 22}, {'nombre': 'Luis', 'edad': 30}, {'nombre': 'Carla', 'edad': 28}] \n",
      "\n"
     ]
    }
   ],
   "source": [
    "lista_diccionarios = [\n",
    "    {\"nombre\": \"Ana\", \"edad\": 25},\n",
    "    {\"nombre\": \"Luis\", \"edad\": 30},\n",
    "    {\"nombre\": \"Carla\", \"edad\": 28}\n",
    "]\n",
    "print(lista_diccionarios,\"\\n\")\n",
    "lista_diccionarios.append({\"nombre\": \"Pedro\", \"edad\": 35})\n",
    "print( lista_diccionarios,\"\\n\")\n",
    "\n",
    "valor = lista_diccionarios[1][\"nombre\"]\n",
    "print(valor)\n",
    "\n",
    "lista_diccionarios.insert(1, {\"nombre\": \"Sofia\", \"edad\": 22})\n",
    "print(lista_diccionarios,\"\\n\")\n",
    "\n",
    "diccionario_pop = lista_diccionarios.pop()\n",
    "print(diccionario_pop,\"\\n\")\n",
    "\n",
    "del lista_diccionarios[0]\n",
    "print(lista_diccionarios,\"\\n\")"
   ]
  },
  {
   "cell_type": "code",
   "execution_count": 38,
   "metadata": {},
   "outputs": [
    {
     "name": "stdout",
     "output_type": "stream",
     "text": [
      "{'manzana': {'color': 'rojo', 'precio_kg': 3.5}, 'banana': {'color': 'amarillo', 'precio_kg': 1.2}, 'uva': {'color': 'morado', 'precio_kg': 4.0}}\n",
      "{'manzana': {'color': 'rojo', 'precio_kg': 3.5}, 'banana': {'color': 'amarillo', 'precio_kg': 1.2}, 'uva': {'color': 'morado', 'precio_kg': 4.0}, 'naranja': {'color': 'naranja', 'precio_kg': 2.5}}\n",
      "{'banana': {'color': 'amarillo', 'precio_kg': 1.2}, 'uva': {'color': 'morado', 'precio_kg': 4.0}, 'naranja': {'color': 'naranja', 'precio_kg': 2.5}}\n",
      "{'banana': {'color': 'verde', 'precio_kg': 1.5}, 'uva': {'color': 'morado', 'precio_kg': 4.0}, 'naranja': {'color': 'naranja', 'precio_kg': 2.5}}\n"
     ]
    }
   ],
   "source": [
    "frutas = {\n",
    "    \"manzana\": {\"color\": \"rojo\", \"precio_kg\": 3.5},\n",
    "    \"banana\": {\"color\": \"amarillo\", \"precio_kg\": 1.2},\n",
    "    \"uva\": {\"color\": \"morado\", \"precio_kg\": 4.0}\n",
    "}\n",
    "\n",
    "print(frutas)\n",
    "\n",
    "frutas[\"naranja\"] = {\"color\": \"naranja\", \"precio_kg\": 2.5}\n",
    "print(frutas)\n",
    "\n",
    "del frutas[\"manzana\"]\n",
    "print(frutas)\n",
    "\n",
    "frutas[\"banana\"] = {\"color\": \"verde\", \"precio_kg\": 1.5}\n",
    "print(frutas)"
   ]
  }
 ],
 "metadata": {
  "kernelspec": {
   "display_name": ".venv",
   "language": "python",
   "name": "python3"
  },
  "language_info": {
   "codemirror_mode": {
    "name": "ipython",
    "version": 3
   },
   "file_extension": ".py",
   "mimetype": "text/x-python",
   "name": "python",
   "nbconvert_exporter": "python",
   "pygments_lexer": "ipython3",
   "version": "3.11.4"
  }
 },
 "nbformat": 4,
 "nbformat_minor": 2
}
