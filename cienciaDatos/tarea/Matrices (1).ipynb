{
 "cells": [
  {
   "cell_type": "code",
   "execution_count": 60,
   "id": "35a01276-570e-4e74-8a76-b6120dcc8cd8",
   "metadata": {},
   "outputs": [],
   "source": [
    "import numpy as np"
   ]
  },
  {
   "cell_type": "code",
   "execution_count": 61,
   "id": "22d439fc-3a01-4ab2-8f91-71374ba26cef",
   "metadata": {},
   "outputs": [],
   "source": [
    "arr = np.arange(-10,101,10)"
   ]
  },
  {
   "cell_type": "code",
   "execution_count": 62,
   "id": "aa71dca9-181c-4b08-89e2-3a487f7cfd20",
   "metadata": {},
   "outputs": [
    {
     "data": {
      "text/plain": [
       "array([-10,   0,  10,  20,  30,  40,  50,  60,  70,  80,  90, 100])"
      ]
     },
     "execution_count": 62,
     "metadata": {},
     "output_type": "execute_result"
    }
   ],
   "source": [
    "arr"
   ]
  },
  {
   "cell_type": "code",
   "execution_count": 63,
   "id": "fcbb323c-8772-4a8a-8866-bdefc66c97c6",
   "metadata": {},
   "outputs": [],
   "source": [
    "arrr = np.ones(3)"
   ]
  },
  {
   "cell_type": "raw",
   "id": "6029f75d-d242-4e81-bdf3-deb70052dcc3",
   "metadata": {},
   "source": [
    "arrr"
   ]
  },
  {
   "cell_type": "code",
   "execution_count": 64,
   "id": "43733371-d1ef-4619-996c-79d9c0a2863e",
   "metadata": {},
   "outputs": [
    {
     "data": {
      "text/plain": [
       "array([0., 0., 0., 0., 0., 0., 0.])"
      ]
     },
     "execution_count": 64,
     "metadata": {},
     "output_type": "execute_result"
    }
   ],
   "source": [
    "np.zeros(7)"
   ]
  },
  {
   "cell_type": "code",
   "execution_count": 65,
   "id": "563b18ed-b016-43b7-b865-8c8f544e4386",
   "metadata": {},
   "outputs": [],
   "source": [
    "arr = np.zeros((4,3))"
   ]
  },
  {
   "cell_type": "code",
   "execution_count": 66,
   "id": "93ecd272-e002-4437-86e0-27d7d2c6fd9d",
   "metadata": {},
   "outputs": [
    {
     "data": {
      "text/plain": [
       "array([[0., 0., 0.],\n",
       "       [0., 0., 0.],\n",
       "       [0., 0., 0.],\n",
       "       [0., 0., 0.]])"
      ]
     },
     "execution_count": 66,
     "metadata": {},
     "output_type": "execute_result"
    }
   ],
   "source": [
    "arr"
   ]
  },
  {
   "cell_type": "code",
   "execution_count": 67,
   "id": "913ffcb2-2d1f-48eb-9146-0b0b6850c40e",
   "metadata": {},
   "outputs": [],
   "source": [
    "arr = np.eye(4)"
   ]
  },
  {
   "cell_type": "code",
   "execution_count": 68,
   "id": "75018d0d-0fbe-43d9-8733-4f74a6d9db26",
   "metadata": {},
   "outputs": [
    {
     "data": {
      "text/plain": [
       "array([[1., 0., 0., 0.],\n",
       "       [0., 1., 0., 0.],\n",
       "       [0., 0., 1., 0.],\n",
       "       [0., 0., 0., 1.]])"
      ]
     },
     "execution_count": 68,
     "metadata": {},
     "output_type": "execute_result"
    }
   ],
   "source": [
    "arr"
   ]
  },
  {
   "cell_type": "code",
   "execution_count": 69,
   "id": "d6b514b5-79a8-46cd-bef9-3275abd70ae9",
   "metadata": {},
   "outputs": [],
   "source": [
    "#Chapter 1.6 Using a random method\n",
    "arr = np.random.rand(5)#Numeros aleatorios entre el (0,1) Distribucion uniforme se le conoce cuando se generan numeros aleatorios     \n"
   ]
  },
  {
   "cell_type": "code",
   "execution_count": 70,
   "id": "bb66b91a-a1db-4043-8aad-74d4f12ee277",
   "metadata": {},
   "outputs": [
    {
     "data": {
      "text/plain": [
       "array([0.45894429, 0.03315866, 0.14011867, 0.36827258, 0.09969132])"
      ]
     },
     "execution_count": 70,
     "metadata": {},
     "output_type": "execute_result"
    }
   ],
   "source": [
    "arr"
   ]
  },
  {
   "cell_type": "code",
   "execution_count": 71,
   "id": "a5950498-7449-4a62-9bb4-0fa927eaa1bb",
   "metadata": {},
   "outputs": [],
   "source": [
    "arr = np.random.rand(3,4)#Genra numeros aleatorios entre el 0 y el 1"
   ]
  },
  {
   "cell_type": "code",
   "execution_count": 72,
   "id": "0d0eba0f-4e83-4789-ab9b-142853e648f3",
   "metadata": {},
   "outputs": [
    {
     "data": {
      "text/plain": [
       "array([[0.61499197, 0.21114282, 0.85486074, 0.24339004],\n",
       "       [0.33135148, 0.89842479, 0.95857268, 0.86954469],\n",
       "       [0.31596154, 0.75218901, 0.29211188, 0.86321171]])"
      ]
     },
     "execution_count": 72,
     "metadata": {},
     "output_type": "execute_result"
    }
   ],
   "source": [
    "arr"
   ]
  },
  {
   "cell_type": "code",
   "execution_count": 73,
   "id": "b09aa9c4-e7e9-4767-8225-3ba182ae6856",
   "metadata": {},
   "outputs": [],
   "source": [
    "arr = np.random.randn(6)#Esta genera nueros aleatorios con una distribución normal pegados al cero "
   ]
  },
  {
   "cell_type": "code",
   "execution_count": 74,
   "id": "3dafb22f-8c91-4af8-9007-4072cc454301",
   "metadata": {},
   "outputs": [
    {
     "data": {
      "text/plain": [
       "array([ 0.11530053, -0.7455593 ,  2.83663   , -0.84047453, -0.67493923,\n",
       "        0.76701614])"
      ]
     },
     "execution_count": 74,
     "metadata": {},
     "output_type": "execute_result"
    }
   ],
   "source": [
    "arr"
   ]
  },
  {
   "cell_type": "code",
   "execution_count": 75,
   "id": "cb31cb3c-06a2-4993-a45c-e1b0a61fadd9",
   "metadata": {},
   "outputs": [],
   "source": [
    "arr = np.random.randn(4,3)#Creamos una matriz"
   ]
  },
  {
   "cell_type": "code",
   "execution_count": 76,
   "id": "ca7a1710-31b0-4e42-83ef-da3287b2c5a1",
   "metadata": {},
   "outputs": [
    {
     "data": {
      "text/plain": [
       "array([[-1.79252806e-01, -5.38490447e-01,  1.97215361e+00],\n",
       "       [ 6.72518283e-01, -2.24122435e+00, -1.86785253e-03],\n",
       "       [ 4.71296702e-01, -1.14912828e+00,  1.07669049e+00],\n",
       "       [-1.44032979e-02,  7.38888380e-01,  4.63859209e-01]])"
      ]
     },
     "execution_count": 76,
     "metadata": {},
     "output_type": "execute_result"
    }
   ],
   "source": [
    "arr"
   ]
  },
  {
   "cell_type": "code",
   "execution_count": 77,
   "id": "5cc7b21e-8144-4672-b0e6-a31dac3ca1cf",
   "metadata": {},
   "outputs": [],
   "source": [
    "\n",
    "#Genera numeros aleatrios del 0 al 10 generara 5 numeros aleatorios\n",
    "arr = np.random.randint(0,11,(3,4))#Generar Numeros aleatorios del tipo entero"
   ]
  },
  {
   "cell_type": "code",
   "execution_count": 78,
   "id": "983e8bda-ea18-4e54-9c0f-06f647d1ee60",
   "metadata": {},
   "outputs": [
    {
     "data": {
      "text/plain": [
       "array([[ 8, 10,  3,  0],\n",
       "       [ 1, 10,  6,  1],\n",
       "       [ 7,  3, 10,  9]])"
      ]
     },
     "execution_count": 78,
     "metadata": {},
     "output_type": "execute_result"
    }
   ],
   "source": [
    "arr"
   ]
  },
  {
   "cell_type": "code",
   "execution_count": 79,
   "id": "7e07ad9d-d81f-475e-9ca5-3fa580af92a6",
   "metadata": {},
   "outputs": [],
   "source": [
    "arr = np.array([[2,8,-3],\n",
    "                [3,-1,0],\n",
    "                [2,5,2],\n",
    "               [1,3,4]])"
   ]
  },
  {
   "cell_type": "code",
   "execution_count": 80,
   "id": "b7a0d8fe-c466-42dc-a31e-6c9900b9af40",
   "metadata": {},
   "outputs": [
    {
     "data": {
      "text/plain": [
       "array([[ 2,  8, -3],\n",
       "       [ 3, -1,  0],\n",
       "       [ 2,  5,  2],\n",
       "       [ 1,  3,  4]])"
      ]
     },
     "execution_count": 80,
     "metadata": {},
     "output_type": "execute_result"
    }
   ],
   "source": [
    "arr"
   ]
  },
  {
   "cell_type": "code",
   "execution_count": 81,
   "id": "828aa346-01be-4b29-a525-def19a1d540d",
   "metadata": {},
   "outputs": [
    {
     "data": {
      "text/plain": [
       "array([[ 2,  8, -3,  3],\n",
       "       [-1,  0,  2,  5],\n",
       "       [ 2,  1,  3,  4]])"
      ]
     },
     "execution_count": 81,
     "metadata": {},
     "output_type": "execute_result"
    }
   ],
   "source": [
    "arr.reshape(3,4)#Convierte un arreglo en matriz\n",
    "#3 filas y 4 columnas "
   ]
  },
  {
   "cell_type": "code",
   "execution_count": 82,
   "id": "7ab59396-6b00-4771-9d38-982cd4dd8d79",
   "metadata": {},
   "outputs": [
    {
     "data": {
      "text/plain": [
       "array([ 5, 10, 15, 20])"
      ]
     },
     "execution_count": 82,
     "metadata": {},
     "output_type": "execute_result"
    }
   ],
   "source": [
    "#Crear un arreglo de numpy de los numeros 5,10,15,20\n",
    "arreglo = np.array([5,10,15,20])\n",
    "arreglo"
   ]
  },
  {
   "cell_type": "code",
   "execution_count": 83,
   "id": "dcbc7557-6d86-446c-bd12-17d1af0af6d0",
   "metadata": {},
   "outputs": [
    {
     "data": {
      "text/plain": [
       "array([0, 1, 2, 3, 4, 5, 6, 7, 8, 9])"
      ]
     },
     "execution_count": 83,
     "metadata": {},
     "output_type": "execute_result"
    }
   ],
   "source": [
    "#Genera un arreglo con valores  desde 0 hasta 9\n",
    "arreglo = np.arange(10)\n",
    "arreglo"
   ]
  },
  {
   "cell_type": "code",
   "execution_count": 84,
   "id": "58c3b499-bfdc-4727-8da8-18a97a9fa1cd",
   "metadata": {},
   "outputs": [
    {
     "data": {
      "text/plain": [
       "array([1., 1., 1., 1., 1.])"
      ]
     },
     "execution_count": 84,
     "metadata": {},
     "output_type": "execute_result"
    }
   ],
   "source": [
    "#crea un arreglo de tamaño 5 lleno de 1s\n",
    "arreglo = np.ones(5)\n",
    "arreglo"
   ]
  },
  {
   "cell_type": "code",
   "execution_count": 85,
   "id": "0c992246-7945-4c31-9e76-7ee196877278",
   "metadata": {},
   "outputs": [
    {
     "data": {
      "text/plain": [
       "array([[0., 0., 0.],\n",
       "       [0., 0., 0.],\n",
       "       [0., 0., 0.]])"
      ]
     },
     "execution_count": 85,
     "metadata": {},
     "output_type": "execute_result"
    }
   ],
   "source": [
    "#Genera una matriz de ceros de tamaño 3 * 3\n",
    "arreglo = np.zeros((3,3))\n",
    "arreglo"
   ]
  },
  {
   "cell_type": "code",
   "execution_count": 86,
   "id": "a46ac024-189d-4acd-a876-394bab58b583",
   "metadata": {},
   "outputs": [
    {
     "data": {
      "text/plain": [
       "array([[1., 0., 0., 0.],\n",
       "       [0., 1., 0., 0.],\n",
       "       [0., 0., 1., 0.],\n",
       "       [0., 0., 0., 1.]])"
      ]
     },
     "execution_count": 86,
     "metadata": {},
     "output_type": "execute_result"
    }
   ],
   "source": [
    "#Crea una matriz identidad de 4 * 4\n",
    "arreglo = np.eye(4)\n",
    "arreglo"
   ]
  },
  {
   "cell_type": "code",
   "execution_count": 87,
   "id": "2d676d7d-4320-40b0-a6bc-3735096c04df",
   "metadata": {},
   "outputs": [
    {
     "data": {
      "text/plain": [
       "array([0.5651056 , 0.71921708, 0.99319232, 0.97336308, 0.27376511])"
      ]
     },
     "execution_count": 87,
     "metadata": {},
     "output_type": "execute_result"
    }
   ],
   "source": [
    "#Genera una arreglo con 5 numeros aleatorios entre 0 y 1\n",
    "arreglo = np.random.rand(5)\n",
    "arreglo"
   ]
  },
  {
   "cell_type": "code",
   "execution_count": 88,
   "id": "eb405504-63b5-48e4-abe6-b70d8821fbdd",
   "metadata": {},
   "outputs": [
    {
     "data": {
      "text/plain": [
       "array([[-0.24282198, -0.81392191],\n",
       "       [-0.53547949,  0.92989275]])"
      ]
     },
     "execution_count": 88,
     "metadata": {},
     "output_type": "execute_result"
    }
   ],
   "source": [
    "#Crea una matriz de 2 * 2 convalores aleatorios de una distribucion de desviacion estandar  1\n",
    "arreglo = np.random.randn(2,2)\n",
    "arreglo"
   ]
  },
  {
   "cell_type": "code",
   "execution_count": 89,
   "id": "d79fa799-cf30-414e-aad7-5896d09f88da",
   "metadata": {},
   "outputs": [
    {
     "data": {
      "text/plain": [
       "array([7, 1, 6])"
      ]
     },
     "execution_count": 89,
     "metadata": {},
     "output_type": "execute_result"
    }
   ],
   "source": [
    "#crea un arreglo con 3 enteros aleatorios entre 1 y 10\n",
    "arreglo = np.random.randint(1,10,3)\n",
    "arreglo"
   ]
  },
  {
   "cell_type": "code",
   "execution_count": 90,
   "id": "225d6a55-5b31-4578-9148-ebff06bf354b",
   "metadata": {},
   "outputs": [
    {
     "data": {
      "text/plain": [
       "array([ 1,  2,  3,  4,  5,  6,  7,  8,  9, 10])"
      ]
     },
     "execution_count": 90,
     "metadata": {},
     "output_type": "execute_result"
    }
   ],
   "source": [
    "#Array indexing and slicing\n",
    "arr = np.arange(1,11)\n",
    "arr"
   ]
  },
  {
   "cell_type": "code",
   "execution_count": 91,
   "id": "2c6f001f-4259-455f-91aa-2575c516e02c",
   "metadata": {},
   "outputs": [
    {
     "data": {
      "text/plain": [
       "np.int64(4)"
      ]
     },
     "execution_count": 91,
     "metadata": {},
     "output_type": "execute_result"
    }
   ],
   "source": [
    "arr[3]#Buscar en un arreglo mediante el index"
   ]
  },
  {
   "cell_type": "code",
   "execution_count": 92,
   "id": "9585042b-9bd6-43a2-8ad6-7e7227ff1827",
   "metadata": {},
   "outputs": [
    {
     "data": {
      "text/plain": [
       "array([3, 4, 5, 6, 7])"
      ]
     },
     "execution_count": 92,
     "metadata": {},
     "output_type": "execute_result"
    }
   ],
   "source": [
    "arr[2:7]#Buscar en un arreglo mediante el index entre cierto rango de números"
   ]
  },
  {
   "cell_type": "code",
   "execution_count": 93,
   "id": "c67f42fb-4355-4627-a636-2a8b977dc812",
   "metadata": {},
   "outputs": [
    {
     "data": {
      "text/plain": [
       "array([1, 2, 3, 4])"
      ]
     },
     "execution_count": 93,
     "metadata": {},
     "output_type": "execute_result"
    }
   ],
   "source": [
    "arr[:4]#Seleccionar del 0 al 5 "
   ]
  },
  {
   "cell_type": "code",
   "execution_count": 94,
   "id": "15f4982a-78c8-4cb6-a3a1-df2019412ab5",
   "metadata": {},
   "outputs": [
    {
     "data": {
      "text/plain": [
       "array([ 3,  4,  5,  6,  7,  8,  9, 10])"
      ]
     },
     "execution_count": 94,
     "metadata": {},
     "output_type": "execute_result"
    }
   ],
   "source": [
    "arr[2:]#Seleccionar hasta el ultimo valor en un arreglo"
   ]
  },
  {
   "cell_type": "code",
   "execution_count": 95,
   "id": "ff3a5506-ce93-41d3-8fcf-0c258c7970f4",
   "metadata": {},
   "outputs": [
    {
     "data": {
      "text/plain": [
       "array([[1, 2, 3],\n",
       "       [4, 5, 6],\n",
       "       [7, 8, 9]])"
      ]
     },
     "execution_count": 95,
     "metadata": {},
     "output_type": "execute_result"
    }
   ],
   "source": [
    "row1 = [1,2,3]\n",
    "row2 = [4,5,6]\n",
    "row3 = [7,8,9]\n",
    "#Convertir arreglos en una sola matriz\n",
    "arr = np.array([row1,row2,row3])\n",
    "arr"
   ]
  },
  {
   "cell_type": "code",
   "execution_count": 96,
   "id": "23aab4ea-7b70-4bea-9ff5-bb68ea18b50d",
   "metadata": {},
   "outputs": [
    {
     "data": {
      "text/plain": [
       "array([[1, 2, 3],\n",
       "       [4, 5, 6]])"
      ]
     },
     "execution_count": 96,
     "metadata": {},
     "output_type": "execute_result"
    }
   ],
   "source": [
    "#Filas-Columnas\n",
    "arr[:2,:3]"
   ]
  },
  {
   "cell_type": "code",
   "execution_count": 97,
   "id": "d6781e69-8466-4fe1-80a3-079398f240dd",
   "metadata": {},
   "outputs": [
    {
     "data": {
      "text/plain": [
       "array([[1, 2],\n",
       "       [4, 5]])"
      ]
     },
     "execution_count": 97,
     "metadata": {},
     "output_type": "execute_result"
    }
   ],
   "source": [
    "#Mostrar solo ciertas columnas\n",
    "arr[:2,:2]"
   ]
  },
  {
   "cell_type": "code",
   "execution_count": 98,
   "id": "fdf3424d-29d6-412d-a638-b1e406eb4022",
   "metadata": {},
   "outputs": [
    {
     "data": {
      "text/plain": [
       "array([[4, 5, 6],\n",
       "       [7, 8, 9]])"
      ]
     },
     "execution_count": 98,
     "metadata": {},
     "output_type": "execute_result"
    }
   ],
   "source": [
    "#Que aparezcan las ultimas dos filas \n",
    "arr[1:3]"
   ]
  },
  {
   "cell_type": "code",
   "execution_count": 99,
   "id": "67cb400b-f5b0-4f57-82c5-628ebd3dbd50",
   "metadata": {},
   "outputs": [
    {
     "data": {
      "text/plain": [
       "array([[5, 6],\n",
       "       [8, 9]])"
      ]
     },
     "execution_count": 99,
     "metadata": {},
     "output_type": "execute_result"
    }
   ],
   "source": [
    "#Que aparezcan solo 5,6,8,9\n",
    "arr[1:3,1:3]"
   ]
  },
  {
   "cell_type": "code",
   "execution_count": 100,
   "id": "4f3c6c48-6edd-4f5a-acc0-a5b93dfb0098",
   "metadata": {},
   "outputs": [
    {
     "data": {
      "text/plain": [
       "array([3.16227766, 4.47213595, 5.47722558, 6.32455532, 7.07106781])"
      ]
     },
     "execution_count": 100,
     "metadata": {},
     "output_type": "execute_result"
    }
   ],
   "source": [
    "#5. Numpy for Aritmetic operation\n",
    "#5.1 Square roots, Square\n",
    "lista = [10,20,30,40,50]\n",
    "arr = np.sqrt(lista)\n",
    "arr"
   ]
  },
  {
   "cell_type": "code",
   "execution_count": 101,
   "id": "7f2fa8d5-9d0c-40ed-9c15-c9cf908a4aae",
   "metadata": {},
   "outputs": [
    {
     "data": {
      "text/plain": [
       "array([ 100,  400,  900, 1600, 2500])"
      ]
     },
     "execution_count": 101,
     "metadata": {},
     "output_type": "execute_result"
    }
   ],
   "source": [
    "#Eleva al cuadrado cada elemento de la lista\n",
    "arr = np.square(lista)\n",
    "arr"
   ]
  },
  {
   "cell_type": "code",
   "execution_count": 102,
   "id": "321699fe-361f-4381-bd27-7570e391979a",
   "metadata": {},
   "outputs": [
    {
     "data": {
      "text/plain": [
       "array([1.        , 1.30103   , 1.47712125, 1.60205999, 1.69897   ])"
      ]
     },
     "execution_count": 102,
     "metadata": {},
     "output_type": "execute_result"
    }
   ],
   "source": [
    "#5,2 Log base 10, log natural\n",
    "arr = np.log10(lista)\n",
    "arr"
   ]
  },
  {
   "cell_type": "code",
   "execution_count": 103,
   "id": "83d21ecb-bdcc-4aaa-b576-441797c92a2a",
   "metadata": {},
   "outputs": [
    {
     "data": {
      "text/plain": [
       "array([2.30258509, 2.99573227, 3.40119738, 3.68887945, 3.91202301])"
      ]
     },
     "execution_count": 103,
     "metadata": {},
     "output_type": "execute_result"
    }
   ],
   "source": [
    "arr = np.log(lista)\n",
    "arr"
   ]
  },
  {
   "cell_type": "code",
   "execution_count": 104,
   "id": "f23ff0fc-0747-4e75-ba11-f46ba2b6f910",
   "metadata": {},
   "outputs": [
    {
     "data": {
      "text/plain": [
       "array([2.20264658e+04, 4.85165195e+08, 1.06864746e+13, 2.35385267e+17,\n",
       "       5.18470553e+21])"
      ]
     },
     "execution_count": 104,
     "metadata": {},
     "output_type": "execute_result"
    }
   ],
   "source": [
    "#5.3 Exponencial\n",
    "arr = np.exp(lista)\n",
    "arr"
   ]
  },
  {
   "cell_type": "code",
   "execution_count": 105,
   "id": "243501f2-539b-4bc2-beee-be28dec04f62",
   "metadata": {},
   "outputs": [
    {
     "data": {
      "text/plain": [
       "array([-0.54402111,  0.91294525, -0.98803162,  0.74511316, -0.26237485])"
      ]
     },
     "execution_count": 105,
     "metadata": {},
     "output_type": "execute_result"
    }
   ],
   "source": [
    "#5.4 Seno and coseno\n",
    "arr = np.sin(lista)\n",
    "arr\n"
   ]
  },
  {
   "cell_type": "code",
   "execution_count": 106,
   "id": "7322bf4f-d886-4c0d-a254-8badf790d641",
   "metadata": {},
   "outputs": [
    {
     "data": {
      "text/plain": [
       "array([-0.83907153,  0.40808206,  0.15425145, -0.66693806,  0.96496603])"
      ]
     },
     "execution_count": 106,
     "metadata": {},
     "output_type": "execute_result"
    }
   ],
   "source": [
    "arr = np.cos(lista)\n",
    "arr"
   ]
  },
  {
   "cell_type": "code",
   "execution_count": 107,
   "id": "785cdc8c-f588-45ca-b08b-45b5aee05f05",
   "metadata": {},
   "outputs": [],
   "source": [
    "#Distribucion normal Es la distribucion gaussiana\n",
    "#Crear una matriz de identidad de orden 3*3 llamada A\n",
    "#Genere un vector con 3 valores aleatorios de distribucion gaussiana,llamada \"v\"\n",
    "#multiplicar vector v por matriz A\n",
    "#genere una matriz de unos de orden 3*4, llamada c\n",
    "#genere una matriz de orden 4*3 con valores aleaotorios entre 1 al 50, llamada D\n",
    "#Haga la siguiente operación (2A*C)*D+At"
   ]
  },
  {
   "cell_type": "code",
   "execution_count": 108,
   "id": "a0c2c032-d3f7-4945-bb43-85f98b031c44",
   "metadata": {},
   "outputs": [
    {
     "data": {
      "text/plain": [
       "array([[1., 0., 0.],\n",
       "       [0., 1., 0.],\n",
       "       [0., 0., 1.]])"
      ]
     },
     "execution_count": 108,
     "metadata": {},
     "output_type": "execute_result"
    }
   ],
   "source": [
    "#1\n",
    "A = np.eye(3)\n",
    "A"
   ]
  },
  {
   "cell_type": "code",
   "execution_count": 109,
   "id": "d6ee20b9-639b-4b39-8647-d87442967126",
   "metadata": {},
   "outputs": [
    {
     "data": {
      "text/plain": [
       "array([ 1.73610409,  0.13102132, -1.81550757])"
      ]
     },
     "execution_count": 109,
     "metadata": {},
     "output_type": "execute_result"
    }
   ],
   "source": [
    "#2\n",
    "V = np.random.randn(3)\n",
    "V"
   ]
  },
  {
   "cell_type": "code",
   "execution_count": 110,
   "id": "92eaa819-1ce3-49a8-931f-ab05926599d4",
   "metadata": {},
   "outputs": [
    {
     "data": {
      "text/plain": [
       "array([[ 1.73610409,  0.        , -0.        ],\n",
       "       [ 0.        ,  0.13102132, -0.        ],\n",
       "       [ 0.        ,  0.        , -1.81550757]])"
      ]
     },
     "execution_count": 110,
     "metadata": {},
     "output_type": "execute_result"
    }
   ],
   "source": [
    "mult = A * V\n",
    "mult"
   ]
  },
  {
   "cell_type": "code",
   "execution_count": 111,
   "id": "bd6520f7-57e8-45ef-8af8-27bad92da389",
   "metadata": {},
   "outputs": [
    {
     "data": {
      "text/plain": [
       "array([[1., 1., 1., 1.],\n",
       "       [1., 1., 1., 1.],\n",
       "       [1., 1., 1., 1.]])"
      ]
     },
     "execution_count": 111,
     "metadata": {},
     "output_type": "execute_result"
    }
   ],
   "source": [
    "#3\n",
    "C = np.ones([3,4])\n",
    "C"
   ]
  },
  {
   "cell_type": "code",
   "execution_count": 112,
   "id": "4be87225-1025-4c54-9bb6-c6211417c358",
   "metadata": {},
   "outputs": [
    {
     "data": {
      "text/plain": [
       "array([[26, 21, 40],\n",
       "       [18, 38, 47],\n",
       "       [13, 11, 48],\n",
       "       [35, 17, 39]])"
      ]
     },
     "execution_count": 112,
     "metadata": {},
     "output_type": "execute_result"
    }
   ],
   "source": [
    "D = np.random.randint(1,51,[4,3])\n",
    "D"
   ]
  },
  {
   "cell_type": "code",
   "execution_count": 113,
   "id": "2176845d-3622-4987-9d65-2d921cba8ed9",
   "metadata": {},
   "outputs": [
    {
     "ename": "ValueError",
     "evalue": "operands could not be broadcast together with shapes (3,3) (3,4) ",
     "output_type": "error",
     "traceback": [
      "\u001b[0;31m---------------------------------------------------------------------------\u001b[0m",
      "\u001b[0;31mValueError\u001b[0m                                Traceback (most recent call last)",
      "Cell \u001b[0;32mIn[113], line 1\u001b[0m\n\u001b[0;32m----> 1\u001b[0m res \u001b[38;5;241m=\u001b[39m (\u001b[38;5;241;43m2\u001b[39;49m\u001b[43m \u001b[49m\u001b[38;5;241;43m*\u001b[39;49m\u001b[43m \u001b[49m\u001b[43mA\u001b[49m\u001b[43m \u001b[49m\u001b[38;5;241;43m*\u001b[39;49m\u001b[43m \u001b[49m\u001b[43mC\u001b[49m) \u001b[38;5;241m*\u001b[39m D \u001b[38;5;241m+\u001b[39m A\u001b[38;5;241m.\u001b[39mT\n",
      "\u001b[0;31mValueError\u001b[0m: operands could not be broadcast together with shapes (3,3) (3,4) "
     ]
    }
   ],
   "source": [
    "res = (2 * A * C) * D + A.T"
   ]
  },
  {
   "cell_type": "code",
   "execution_count": null,
   "id": "0d17e70c-e3e0-4fba-b759-25f01c28bb6c",
   "metadata": {},
   "outputs": [],
   "source": [
    "#19/11/2024\n",
    "import numpy as np\n",
    "matrizA = np.array([[1,2,3],\n",
    "                    [4,5,6],\n",
    "                    [7,8,9]])\n",
    "matrizB = np.array([[10,11,12],\n",
    "                    [13,14,15],\n",
    "                    [16,17,18]])"
   ]
  },
  {
   "cell_type": "code",
   "execution_count": null,
   "id": "62dfe984-df5b-4b3b-9079-87b4450977e2",
   "metadata": {},
   "outputs": [],
   "source": [
    "arr = np.dot(matrizA,matrizB)#Multiplicar\n",
    "arr"
   ]
  },
  {
   "cell_type": "code",
   "execution_count": null,
   "id": "e8967617-fd04-4298-9030-21855572b4db",
   "metadata": {},
   "outputs": [],
   "source": [
    "#Producto elemento por elemento \n",
    "arr = matrizA * matrizB\n",
    "arr"
   ]
  },
  {
   "cell_type": "code",
   "execution_count": null,
   "id": "6c49b897-7a36-49da-b581-cb4c813449f1",
   "metadata": {},
   "outputs": [],
   "source": [
    "arr = np.multiply(matrizA,matrizB)\n",
    "arr"
   ]
  },
  {
   "cell_type": "code",
   "execution_count": null,
   "id": "62004e2c-2f33-40c5-afa3-3fcd9f30d8ae",
   "metadata": {},
   "outputs": [],
   "source": [
    "#Matriz inversa\n",
    "arr = np.linalg.inv(matrizA)\n",
    "arr"
   ]
  },
  {
   "cell_type": "code",
   "execution_count": null,
   "id": "24550cb8-f0c7-47e3-a8db-f1a7673b6c54",
   "metadata": {},
   "outputs": [],
   "source": [
    "#determinante \n",
    "arr = np.linalg.det(matrizA)\n",
    "arr"
   ]
  },
  {
   "cell_type": "code",
   "execution_count": null,
   "id": "0e0004af-c698-44c9-aebc-f580a50cfc21",
   "metadata": {},
   "outputs": [],
   "source": [
    "#Traza de una matriz(Es la suma de los elementos en diagonal)\n",
    "matrizA\n",
    "arr = np.trace(matrizA)\n",
    "arr"
   ]
  },
  {
   "cell_type": "code",
   "execution_count": null,
   "id": "441f9f12-23f3-4bfb-a185-bf71e6b12394",
   "metadata": {},
   "outputs": [],
   "source": [
    "#Funciones estadisticas y más\n",
    "#Suma\n",
    "arr = np.array([1,2,3,4,5])\n",
    "arr\n",
    "suma = np.sum(arr)\n",
    "suma\n"
   ]
  },
  {
   "cell_type": "code",
   "execution_count": null,
   "id": "989c470c-89cb-439e-86b7-d89c37fc11d7",
   "metadata": {},
   "outputs": [],
   "source": [
    "#Minimo de todos los elementos de un arreglo\n",
    "minimo = np.min(arr)\n",
    "minimo"
   ]
  },
  {
   "cell_type": "code",
   "execution_count": null,
   "id": "d79a29d7-a8f3-4245-9eb1-630955a012ce",
   "metadata": {},
   "outputs": [],
   "source": [
    "#Max\n",
    "max = np.max(arr)\n",
    "max"
   ]
  },
  {
   "cell_type": "code",
   "execution_count": null,
   "id": "90f879f3-f72a-4711-99cb-0bcc5398e35e",
   "metadata": {},
   "outputs": [],
   "source": [
    "#Promedio\n",
    "promedio = np.mean(arr)\n",
    "promedio"
   ]
  },
  {
   "cell_type": "code",
   "execution_count": null,
   "id": "e0fca98f-550c-4b8c-897f-a53b96d72aaf",
   "metadata": {},
   "outputs": [],
   "source": [
    "#Desviacion estandar\n",
    "desv_est = np.std(arr)\n",
    "desv_est"
   ]
  },
  {
   "cell_type": "code",
   "execution_count": null,
   "id": "6c28e1a7-c628-4f14-942d-820a3de014ea",
   "metadata": {},
   "outputs": [],
   "source": [
    "#Varianza\n",
    "varianza = np.var(arr)\n",
    "varianza"
   ]
  },
  {
   "cell_type": "code",
   "execution_count": null,
   "id": "1297f9ae-ff77-4bcb-9102-3eba2b7eca2f",
   "metadata": {},
   "outputs": [],
   "source": [
    "#Mediana\n",
    "media = np.median(arr)\n",
    "media"
   ]
  },
  {
   "cell_type": "code",
   "execution_count": null,
   "id": "1c206363-be17-4662-a04b-c4372c4b5654",
   "metadata": {},
   "outputs": [],
   "source": [
    "#sumar las filas de la matriz A\n",
    "suma = np.sum(matrizA,axis = 0)\n",
    "suma"
   ]
  },
  {
   "cell_type": "code",
   "execution_count": null,
   "id": "5d4d3f3f-1152-4c18-9805-8f18ec92ccbd",
   "metadata": {},
   "outputs": [],
   "source": [
    "#sumar las columnas de la matriz A\n",
    "suma = np.sum(matrizA,axis = 1)\n",
    "suma"
   ]
  },
  {
   "cell_type": "code",
   "execution_count": null,
   "id": "57220af3-2158-44e4-97a6-2a5613d6009a",
   "metadata": {},
   "outputs": [],
   "source": [
    "#sumar Todos los elementos de la matriz A\n",
    "suma = np.sum(matrizA)\n",
    "suma"
   ]
  },
  {
   "cell_type": "code",
   "execution_count": null,
   "id": "11ef9b0f-9d84-46f5-b6b2-cc5a772097b9",
   "metadata": {},
   "outputs": [],
   "source": [
    "maximo = np.max(matrizA)\n",
    "maximo"
   ]
  },
  {
   "cell_type": "code",
   "execution_count": null,
   "id": "f863d8d7-f21e-4967-a6b1-19874b6061b8",
   "metadata": {},
   "outputs": [],
   "source": [
    "minimo = np.min(matrizA)\n",
    "minimo"
   ]
  },
  {
   "cell_type": "code",
   "execution_count": null,
   "id": "b32e3a0e-477f-48bd-ab2e-4863eca1fe9c",
   "metadata": {},
   "outputs": [],
   "source": [
    "promedio = np.mean(matrizA)\n",
    "promedio"
   ]
  },
  {
   "cell_type": "code",
   "execution_count": null,
   "id": "b301f8a4-9230-49a0-8e3b-9870d2e4e39e",
   "metadata": {},
   "outputs": [],
   "source": []
  }
 ],
 "metadata": {
  "kernelspec": {
   "display_name": ".venv",
   "language": "python",
   "name": "python3"
  },
  "language_info": {
   "codemirror_mode": {
    "name": "ipython",
    "version": 3
   },
   "file_extension": ".py",
   "mimetype": "text/x-python",
   "name": "python",
   "nbconvert_exporter": "python",
   "pygments_lexer": "ipython3",
   "version": "3.11.4"
  }
 },
 "nbformat": 4,
 "nbformat_minor": 5
}
